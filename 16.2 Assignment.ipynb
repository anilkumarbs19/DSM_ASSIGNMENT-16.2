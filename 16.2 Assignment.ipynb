{
 "cells": [
  {
   "cell_type": "code",
   "execution_count": 1,
   "metadata": {},
   "outputs": [
    {
     "name": "stdout",
     "output_type": "stream",
     "text": [
      "The variance in tree heights is = 6220\n"
     ]
    }
   ],
   "source": [
    "import math\n",
    "\n",
    "heights = [3, 21, 98, 203, 17, 9]\n",
    "\n",
    "### Variance formula = sum(for i = 1 to n, (xi - mean) ** 2) / n - 1\n",
    "\n",
    "variance = sum([(height - (float(sum(heights)) / len(heights))) ** 2 for height in heights]) / (len(heights) - 1)\n",
    "\n",
    "print(\"The variance in tree heights is =\", format(variance,'.0f'))"
   ]
  },
  {
   "cell_type": "code",
   "execution_count": null,
   "metadata": {
    "collapsed": true
   },
   "outputs": [],
   "source": []
  }
 ],
 "metadata": {
  "kernelspec": {
   "display_name": "Python 3",
   "language": "python",
   "name": "python3"
  },
  "language_info": {
   "codemirror_mode": {
    "name": "ipython",
    "version": 3
   },
   "file_extension": ".py",
   "mimetype": "text/x-python",
   "name": "python",
   "nbconvert_exporter": "python",
   "pygments_lexer": "ipython3",
   "version": "3.6.3"
  }
 },
 "nbformat": 4,
 "nbformat_minor": 2
}
